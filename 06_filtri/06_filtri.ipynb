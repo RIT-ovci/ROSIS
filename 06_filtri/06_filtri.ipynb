{
 "cells": [
  {
   "metadata": {
    "ExecuteTime": {
     "end_time": "2025-07-02T17:53:57.433650Z",
     "start_time": "2025-07-02T17:53:57.428755Z"
    }
   },
   "cell_type": "code",
   "source": [
    "import numpy as np\n",
    "import matplotlib.pyplot as plt\n",
    "import soundfile as sf\n",
    "import sounddevice as sd\n",
    "import scipy.signal as signal\n",
    "import yulewalker as yw"
   ],
   "id": "7372b67cd27a66ff",
   "outputs": [],
   "execution_count": 8
  },
  {
   "metadata": {
    "ExecuteTime": {
     "end_time": "2025-07-02T17:53:57.449531Z",
     "start_time": "2025-07-02T17:53:57.447042Z"
    }
   },
   "cell_type": "code",
   "source": [
    "letters = [\n",
    "    ['A1'],\n",
    "    # ['I1', 'I2'],\n",
    "]"
   ],
   "id": "59a716c2d53a5699",
   "outputs": [],
   "execution_count": 9
  },
  {
   "metadata": {
    "ExecuteTime": {
     "end_time": "2025-07-02T17:53:57.509519Z",
     "start_time": "2025-07-02T17:53:57.506090Z"
    }
   },
   "cell_type": "code",
   "source": [
    "def fft(y: np.array, fs: int) -> (np.array, np.array, float):\n",
    "    N = len(y)\n",
    "    ys = np.fft.fft(y)[:N//2]\n",
    "    freq = np.linspace(0, fs, N)[:N//2]\n",
    "    base_freq = freq[np.argmax(np.abs(ys))]\n",
    "    return ys, freq, base_freq"
   ],
   "id": "5204e53f8c7009a",
   "outputs": [],
   "execution_count": 10
  },
  {
   "metadata": {
    "ExecuteTime": {
     "end_time": "2025-07-02T17:53:57.560451Z",
     "start_time": "2025-07-02T17:53:57.556465Z"
    }
   },
   "cell_type": "code",
   "source": [
    "def comb_filter(y: np.array, fs: int, base_freq: float, harmonics: np.array):\n",
    "    np.int = np.int64\n",
    "    band_stop_width = 30\n",
    "    transition_width = 3\n",
    "\n",
    "    fc = np.array([0])\n",
    "    am = np.array([1])\n",
    "    nyq = fs / 2\n",
    "    fo = 25\n",
    "\n",
    "    for harmonic in harmonics:\n",
    "        jump = 1\n",
    "        while True:\n",
    "            harmonic_freq = harmonic * base_freq * jump\n",
    "            if harmonic_freq > nyq:\n",
    "                break\n",
    "            f1 = (harmonic_freq - band_stop_width - transition_width) / nyq\n",
    "            f2 = (harmonic_freq - band_stop_width) / nyq\n",
    "            f3 = (harmonic_freq + band_stop_width) / nyq\n",
    "            f4 = (harmonic_freq + band_stop_width + transition_width) / nyq\n",
    "\n",
    "            fc = np.concatenate((fc, [f1, f2, f3, f4]))\n",
    "            am = np.concatenate((am, [1,  0,  0,  1]))\n",
    "\n",
    "            jump = jump + 6\n",
    "\n",
    "    fc = np.concatenate((fc, [1]))\n",
    "    am = np.concatenate((am, [1]))\n",
    "\n",
    "    sorted = np.argsort(fc)\n",
    "    fc = fc[sorted]\n",
    "    am = am[sorted]\n",
    "\n",
    "    a, b = yw.yulewalk(fo, fc, am)\n",
    "    w, h = signal.freqz(b, a)\n",
    "    fr = w * nyq / np.pi\n",
    "\n",
    "    yf = signal.filtfilt(b, a, y)\n",
    "\n",
    "    return yf, fr, h, fc, am"
   ],
   "id": "5101ff03765327e8",
   "outputs": [],
   "execution_count": 11
  },
  {
   "metadata": {
    "ExecuteTime": {
     "end_time": "2025-07-02T17:53:57.610270Z",
     "start_time": "2025-07-02T17:53:57.606416Z"
    }
   },
   "cell_type": "code",
   "source": [
    "def cascade_filter(y: np.array, fs: int, base_freq: float, harmonics: np.array):\n",
    "    np.int = np.int64\n",
    "    band_stop_width = 10\n",
    "    nyq = fs / 2\n",
    "    fo = 15\n",
    "\n",
    "    sos_filters = []\n",
    "\n",
    "    for harmonic in harmonics:\n",
    "        harmonic_freq = harmonic * base_freq\n",
    "        if harmonic_freq - band_stop_width <= 0 or harmonic_freq + band_stop_width >= nyq:\n",
    "            continue\n",
    "\n",
    "        f_low = (harmonic_freq - band_stop_width) / nyq\n",
    "        f_high = (harmonic_freq + band_stop_width) / nyq\n",
    "        sos = signal.iirfilter(fo, [f_low, f_high], btype='bandstop', ftype='butter', output='sos')\n",
    "        sos_filters.append(sos)\n",
    "\n",
    "    sos_combined = np.concatenate(sos_filters, axis=0)\n",
    "    w, h = signal.freqz_sos(sos_combined)\n",
    "    fr = w * nyq / np.pi\n",
    "    yf = signal.sosfiltfilt(sos_combined, y)\n",
    "\n",
    "    return yf, fr, h"
   ],
   "id": "3c8eea60eda80f7b",
   "outputs": [],
   "execution_count": 12
  },
  {
   "metadata": {
    "ExecuteTime": {
     "end_time": "2025-07-02T17:53:57.716030Z",
     "start_time": "2025-07-02T17:53:57.655673Z"
    }
   },
   "cell_type": "code",
   "source": [
    "harmonics_to_filter_comb = np.array([5])\n",
    "harmonics_to_filter_cascade = np.array([3, 5])\n",
    "for letter_files in letters:\n",
    "    for file in letter_files:\n",
    "        y, fs = sf.read(f'data/{file}.wav')\n",
    "        x_lim = 1000\n",
    "        N = len(y)\n",
    "        T = N / fs\n",
    "        t = np.arange(0, T, 1/fs)\n",
    "\n",
    "        ys, y_freq, y_base_freq = fft(y, fs)\n",
    "        yf, fr, h, fc, am = comb_filter(y=y, fs=fs, base_freq=y_base_freq, harmonics=harmonics_to_filter_comb)\n",
    "\n",
    "        yfs, yf_freq, yf_base_freq = fft(yf, fs)\n",
    "\n",
    "        fig, axs = plt.subplots(nrows=4, ncols=1, gridspec_kw={'hspace': 2})\n",
    "        fig.set_size_inches(25, 6)\n",
    "        axs[0].plot(y_freq, np.abs(ys) / N)\n",
    "        axs[0].set_title(f\"{file} signal frequency response\")\n",
    "        axs[0].set_xlabel(f\"Frequency [Hz]\")\n",
    "        axs[0].set_ylabel(f\"Amplitude\")\n",
    "        axs[0].set_xlim(0, x_lim)\n",
    "\n",
    "        axs[1].plot(fc * (fs / 2), am)\n",
    "        axs[1].set_title(f\"{file} Comb filter ideal frequency response\")\n",
    "        axs[1].set_xlabel(\"Frequency [Hz]\")\n",
    "        axs[1].set_ylabel(\"Amplification\")\n",
    "        axs[1].set_xlim(0, x_lim)\n",
    "\n",
    "        axs[2].plot(fr, 20 * np.log10(np.abs(h)))\n",
    "        axs[2].set_title(f\"{file} Comb filter frequency response\")\n",
    "        axs[2].set_xlabel(\"Frequency [Hz]\")\n",
    "        axs[2].set_ylabel(\"Amplification]\")\n",
    "        axs[2].set_xlim(0, fs//2)\n",
    "\n",
    "        axs[3].plot(yf_freq, np.abs(yfs) / N)\n",
    "        axs[3].set_title(f\"Filtered {file} signal frequency response\")\n",
    "        axs[3].set_xlabel(f\"Frequency [Hz]\")\n",
    "        axs[3].set_ylabel(f\"Amplitude\")\n",
    "        axs[3].set_xlim(0, x_lim)\n",
    "        plt.show()\n",
    "        print(\"=\" * 200)\n",
    "        yf, fr, h = cascade_filter(y=y, fs=fs, base_freq=y_base_freq, harmonics=harmonics_to_filter_cascade)\n",
    "        yfs, yf_freq, yf_base_freq = fft(yf, fs)\n",
    "\n",
    "        fig, axs = plt.subplots(nrows=3, ncols=1, gridspec_kw={'hspace': 2})\n",
    "        fig.set_size_inches(25, 6)\n",
    "        axs[0].plot(y_freq, np.abs(ys) / N)\n",
    "        axs[0].set_title(f\"{file} signal frequency response\")\n",
    "        axs[0].set_xlabel(f\"Frequency [Hz]\")\n",
    "        axs[0].set_ylabel(f\"Amplitude\")\n",
    "        axs[0].set_xlim(0, x_lim)\n",
    "\n",
    "        axs[1].plot(fr, 20 * np.log10(np.abs(h)))\n",
    "        axs[1].set_title(\"{file} Filter frequency response\")\n",
    "        axs[1].set_xlabel(\"Frequency [Hz]\")\n",
    "        axs[1].set_ylabel(\"Amplification]\")\n",
    "        axs[1].set_xlim(0, x_lim)\n",
    "\n",
    "        axs[2].plot(yf_freq, np.abs(yfs) / N)\n",
    "        axs[2].set_title(f\"Filtered {file} signal frequency response\")\n",
    "        axs[2].set_xlabel(f\"Frequency [Hz]\")\n",
    "        axs[2].set_ylabel(f\"Amplitude\")\n",
    "        axs[2].set_xlim(0, x_lim)\n",
    "        plt.show()"
   ],
   "id": "5e6f7318e0ee0b6",
   "outputs": [
    {
     "ename": "LibsndfileError",
     "evalue": "Error opening 'data/A1.wav': System error.",
     "output_type": "error",
     "traceback": [
      "\u001B[0;31m---------------------------------------------------------------------------\u001B[0m",
      "\u001B[0;31mLibsndfileError\u001B[0m                           Traceback (most recent call last)",
      "Cell \u001B[0;32mIn[13], line 5\u001B[0m\n\u001B[1;32m      3\u001B[0m \u001B[38;5;28;01mfor\u001B[39;00m letter_files \u001B[38;5;129;01min\u001B[39;00m letters:\n\u001B[1;32m      4\u001B[0m     \u001B[38;5;28;01mfor\u001B[39;00m file \u001B[38;5;129;01min\u001B[39;00m letter_files:\n\u001B[0;32m----> 5\u001B[0m         y, fs \u001B[38;5;241m=\u001B[39m \u001B[43msf\u001B[49m\u001B[38;5;241;43m.\u001B[39;49m\u001B[43mread\u001B[49m\u001B[43m(\u001B[49m\u001B[38;5;124;43mf\u001B[39;49m\u001B[38;5;124;43m'\u001B[39;49m\u001B[38;5;124;43mdata/\u001B[39;49m\u001B[38;5;132;43;01m{\u001B[39;49;00m\u001B[43mfile\u001B[49m\u001B[38;5;132;43;01m}\u001B[39;49;00m\u001B[38;5;124;43m.wav\u001B[39;49m\u001B[38;5;124;43m'\u001B[39;49m\u001B[43m)\u001B[49m\n\u001B[1;32m      6\u001B[0m         x_lim \u001B[38;5;241m=\u001B[39m \u001B[38;5;241m1000\u001B[39m\n\u001B[1;32m      7\u001B[0m         N \u001B[38;5;241m=\u001B[39m \u001B[38;5;28mlen\u001B[39m(y)\n",
      "File \u001B[0;32m~/miniconda3/envs/07_mfcc_in_nm/lib/python3.12/site-packages/soundfile.py:305\u001B[0m, in \u001B[0;36mread\u001B[0;34m(file, frames, start, stop, dtype, always_2d, fill_value, out, samplerate, channels, format, subtype, endian, closefd)\u001B[0m\n\u001B[1;32m    219\u001B[0m \u001B[38;5;28;01mdef\u001B[39;00m \u001B[38;5;21mread\u001B[39m(file, frames\u001B[38;5;241m=\u001B[39m\u001B[38;5;241m-\u001B[39m\u001B[38;5;241m1\u001B[39m, start\u001B[38;5;241m=\u001B[39m\u001B[38;5;241m0\u001B[39m, stop\u001B[38;5;241m=\u001B[39m\u001B[38;5;28;01mNone\u001B[39;00m, dtype\u001B[38;5;241m=\u001B[39m\u001B[38;5;124m'\u001B[39m\u001B[38;5;124mfloat64\u001B[39m\u001B[38;5;124m'\u001B[39m, always_2d\u001B[38;5;241m=\u001B[39m\u001B[38;5;28;01mFalse\u001B[39;00m,\n\u001B[1;32m    220\u001B[0m          fill_value\u001B[38;5;241m=\u001B[39m\u001B[38;5;28;01mNone\u001B[39;00m, out\u001B[38;5;241m=\u001B[39m\u001B[38;5;28;01mNone\u001B[39;00m, samplerate\u001B[38;5;241m=\u001B[39m\u001B[38;5;28;01mNone\u001B[39;00m, channels\u001B[38;5;241m=\u001B[39m\u001B[38;5;28;01mNone\u001B[39;00m,\n\u001B[1;32m    221\u001B[0m          \u001B[38;5;28mformat\u001B[39m\u001B[38;5;241m=\u001B[39m\u001B[38;5;28;01mNone\u001B[39;00m, subtype\u001B[38;5;241m=\u001B[39m\u001B[38;5;28;01mNone\u001B[39;00m, endian\u001B[38;5;241m=\u001B[39m\u001B[38;5;28;01mNone\u001B[39;00m, closefd\u001B[38;5;241m=\u001B[39m\u001B[38;5;28;01mTrue\u001B[39;00m):\n\u001B[1;32m    222\u001B[0m \u001B[38;5;250m    \u001B[39m\u001B[38;5;124;03m\"\"\"Provide audio data from a sound file as NumPy array.\u001B[39;00m\n\u001B[1;32m    223\u001B[0m \n\u001B[1;32m    224\u001B[0m \u001B[38;5;124;03m    By default, the whole file is read from the beginning, but the\u001B[39;00m\n\u001B[0;32m   (...)\u001B[0m\n\u001B[1;32m    303\u001B[0m \n\u001B[1;32m    304\u001B[0m \u001B[38;5;124;03m    \"\"\"\u001B[39;00m\n\u001B[0;32m--> 305\u001B[0m     \u001B[38;5;28;01mwith\u001B[39;00m \u001B[43mSoundFile\u001B[49m\u001B[43m(\u001B[49m\u001B[43mfile\u001B[49m\u001B[43m,\u001B[49m\u001B[43m \u001B[49m\u001B[38;5;124;43m'\u001B[39;49m\u001B[38;5;124;43mr\u001B[39;49m\u001B[38;5;124;43m'\u001B[39;49m\u001B[43m,\u001B[49m\u001B[43m \u001B[49m\u001B[43msamplerate\u001B[49m\u001B[43m,\u001B[49m\u001B[43m \u001B[49m\u001B[43mchannels\u001B[49m\u001B[43m,\u001B[49m\n\u001B[1;32m    306\u001B[0m \u001B[43m                   \u001B[49m\u001B[43msubtype\u001B[49m\u001B[43m,\u001B[49m\u001B[43m \u001B[49m\u001B[43mendian\u001B[49m\u001B[43m,\u001B[49m\u001B[43m \u001B[49m\u001B[38;5;28;43mformat\u001B[39;49m\u001B[43m,\u001B[49m\u001B[43m \u001B[49m\u001B[43mclosefd\u001B[49m\u001B[43m)\u001B[49m \u001B[38;5;28;01mas\u001B[39;00m f:\n\u001B[1;32m    307\u001B[0m         frames \u001B[38;5;241m=\u001B[39m f\u001B[38;5;241m.\u001B[39m_prepare_read(start, stop, frames)\n\u001B[1;32m    308\u001B[0m         data \u001B[38;5;241m=\u001B[39m f\u001B[38;5;241m.\u001B[39mread(frames, dtype, always_2d, fill_value, out)\n",
      "File \u001B[0;32m~/miniconda3/envs/07_mfcc_in_nm/lib/python3.12/site-packages/soundfile.py:690\u001B[0m, in \u001B[0;36mSoundFile.__init__\u001B[0;34m(self, file, mode, samplerate, channels, subtype, endian, format, closefd, compression_level, bitrate_mode)\u001B[0m\n\u001B[1;32m    687\u001B[0m \u001B[38;5;28mself\u001B[39m\u001B[38;5;241m.\u001B[39m_bitrate_mode \u001B[38;5;241m=\u001B[39m bitrate_mode\n\u001B[1;32m    688\u001B[0m \u001B[38;5;28mself\u001B[39m\u001B[38;5;241m.\u001B[39m_info \u001B[38;5;241m=\u001B[39m _create_info_struct(file, mode, samplerate, channels,\n\u001B[1;32m    689\u001B[0m                                  \u001B[38;5;28mformat\u001B[39m, subtype, endian)\n\u001B[0;32m--> 690\u001B[0m \u001B[38;5;28mself\u001B[39m\u001B[38;5;241m.\u001B[39m_file \u001B[38;5;241m=\u001B[39m \u001B[38;5;28;43mself\u001B[39;49m\u001B[38;5;241;43m.\u001B[39;49m\u001B[43m_open\u001B[49m\u001B[43m(\u001B[49m\u001B[43mfile\u001B[49m\u001B[43m,\u001B[49m\u001B[43m \u001B[49m\u001B[43mmode_int\u001B[49m\u001B[43m,\u001B[49m\u001B[43m \u001B[49m\u001B[43mclosefd\u001B[49m\u001B[43m)\u001B[49m\n\u001B[1;32m    691\u001B[0m \u001B[38;5;28;01mif\u001B[39;00m \u001B[38;5;28mset\u001B[39m(mode)\u001B[38;5;241m.\u001B[39missuperset(\u001B[38;5;124m'\u001B[39m\u001B[38;5;124mr+\u001B[39m\u001B[38;5;124m'\u001B[39m) \u001B[38;5;129;01mand\u001B[39;00m \u001B[38;5;28mself\u001B[39m\u001B[38;5;241m.\u001B[39mseekable():\n\u001B[1;32m    692\u001B[0m     \u001B[38;5;66;03m# Move write position to 0 (like in Python file objects)\u001B[39;00m\n\u001B[1;32m    693\u001B[0m     \u001B[38;5;28mself\u001B[39m\u001B[38;5;241m.\u001B[39mseek(\u001B[38;5;241m0\u001B[39m)\n",
      "File \u001B[0;32m~/miniconda3/envs/07_mfcc_in_nm/lib/python3.12/site-packages/soundfile.py:1265\u001B[0m, in \u001B[0;36mSoundFile._open\u001B[0;34m(self, file, mode_int, closefd)\u001B[0m\n\u001B[1;32m   1262\u001B[0m \u001B[38;5;28;01mif\u001B[39;00m file_ptr \u001B[38;5;241m==\u001B[39m _ffi\u001B[38;5;241m.\u001B[39mNULL:\n\u001B[1;32m   1263\u001B[0m     \u001B[38;5;66;03m# get the actual error code\u001B[39;00m\n\u001B[1;32m   1264\u001B[0m     err \u001B[38;5;241m=\u001B[39m _snd\u001B[38;5;241m.\u001B[39msf_error(file_ptr)\n\u001B[0;32m-> 1265\u001B[0m     \u001B[38;5;28;01mraise\u001B[39;00m LibsndfileError(err, prefix\u001B[38;5;241m=\u001B[39m\u001B[38;5;124m\"\u001B[39m\u001B[38;5;124mError opening \u001B[39m\u001B[38;5;132;01m{0!r}\u001B[39;00m\u001B[38;5;124m: \u001B[39m\u001B[38;5;124m\"\u001B[39m\u001B[38;5;241m.\u001B[39mformat(\u001B[38;5;28mself\u001B[39m\u001B[38;5;241m.\u001B[39mname))\n\u001B[1;32m   1266\u001B[0m \u001B[38;5;28;01mif\u001B[39;00m mode_int \u001B[38;5;241m==\u001B[39m _snd\u001B[38;5;241m.\u001B[39mSFM_WRITE:\n\u001B[1;32m   1267\u001B[0m     \u001B[38;5;66;03m# Due to a bug in libsndfile version <= 1.0.25, frames != 0\u001B[39;00m\n\u001B[1;32m   1268\u001B[0m     \u001B[38;5;66;03m# when opening a named pipe in SFM_WRITE mode.\u001B[39;00m\n\u001B[1;32m   1269\u001B[0m     \u001B[38;5;66;03m# See http://github.com/erikd/libsndfile/issues/77.\u001B[39;00m\n\u001B[1;32m   1270\u001B[0m     \u001B[38;5;28mself\u001B[39m\u001B[38;5;241m.\u001B[39m_info\u001B[38;5;241m.\u001B[39mframes \u001B[38;5;241m=\u001B[39m \u001B[38;5;241m0\u001B[39m\n",
      "\u001B[0;31mLibsndfileError\u001B[0m: Error opening 'data/A1.wav': System error."
     ]
    }
   ],
   "execution_count": 13
  }
 ],
 "metadata": {},
 "nbformat": 4,
 "nbformat_minor": 5
}

{
 "cells": [
  {
   "cell_type": "code",
   "execution_count": null,
   "metadata": {},
   "outputs": [],
   "source": [
    "# Base\n",
    "import librosa\n",
    "import pandas as pd\n",
    "import numpy as np\n",
    "import matplotlib.pyplot as plt\n",
    "\n",
    "# Tensoflow\n",
    "import tensorflow as tf\n",
    "import tensorflow_hub as hub"
   ]
  },
  {
   "cell_type": "code",
   "execution_count": null,
   "metadata": {},
   "outputs": [],
   "source": [
    "# YAMNet\n",
    "# Model naučen nad AudioSet-YouTube podatkih\n",
    "# Vsak 10 sekundni video posnetek je označen z enim ali več izmed 521 možnimi razredi\n",
    "# Lahko ga uporabimo tudi za izdvajanje značilnic\n",
    "# Izhod je 521 dimenzionalni vektor, ki predstavlja verjetnosti za vsak možen razred"
   ]
  },
  {
   "cell_type": "code",
   "execution_count": null,
   "metadata": {},
   "outputs": [],
   "source": [
    "# Load YAMNet model\n",
    "yamnet = hub.load('https://www.kaggle.com/models/google/yamnet/TensorFlow2/yamnet/1')\n",
    "\n",
    "# Load class names (521 AudioSet labels)\n",
    "class_map_path = tf.keras.utils.get_file('yamnet_class_map.csv', 'https://raw.githubusercontent.com/tensorflow/models/master/research/audioset/yamnet/yamnet_class_map.csv')\n",
    "class_names = pd.read_csv(class_map_path)['display_name'].to_list()\n",
    "\n",
    "# Download UrbanSound8K for testing\n",
    "!curl -O https://storage.googleapis.com/audioset/speech_whistling2.wav\n",
    "!curl -O https://storage.googleapis.com/audioset/miaow_16k.wav"
   ]
  },
  {
   "cell_type": "code",
   "execution_count": null,
   "metadata": {},
   "outputs": [],
   "source": [
    "# Silence\n",
    "waveform = np.zeros(3 * 16000, dtype=np.float32)\n",
    "\n",
    "# Run model\n",
    "scores, embeddings, log_mel_spectrogram = yamnet(waveform)\n",
    "scores = scores.numpy()\n",
    "spectrogram = log_mel_spectrogram.numpy()\n",
    "\n",
    "print(class_names[scores.mean(axis=0).argmax()])"
   ]
  },
  {
   "cell_type": "code",
   "execution_count": null,
   "metadata": {},
   "outputs": [],
   "source": [
    "# Domestic animals, pets\n",
    "waveform, sr = librosa.load(\"miaow_16k.wav\")\n",
    "\n",
    "# Run model\n",
    "scores, embeddings, log_mel_spectrogram = yamnet(waveform)\n",
    "scores = scores.numpy()\n",
    "spectrogram = log_mel_spectrogram.numpy()\n",
    "\n",
    "print(class_names[scores.mean(axis=0).argmax()])"
   ]
  },
  {
   "cell_type": "code",
   "execution_count": null,
   "metadata": {},
   "outputs": [],
   "source": [
    "# Whistle\n",
    "waveform, sr = librosa.load(\"speech_whistling2.wav\")\n",
    "\n",
    "# Run model\n",
    "scores, embeddings, log_mel_spectrogram = yamnet(waveform)\n",
    "scores = scores.numpy()\n",
    "spectrogram = log_mel_spectrogram.numpy()\n",
    "\n",
    "print(class_names[scores.mean(axis=0).argmax()])"
   ]
  },
  {
   "cell_type": "code",
   "execution_count": null,
   "metadata": {},
   "outputs": [],
   "source": [
    "# Parameters\n",
    "patch_window_seconds: float = 0.96\n",
    "patch_hop_seconds: float = 0.48\n",
    "\n",
    "# Visualize\n",
    "plt.figure(figsize=(10, 8))\n",
    "\n",
    "# Plot waveform\n",
    "plt.subplot(3, 1, 1)\n",
    "plt.plot(waveform)\n",
    "plt.xlim([0, len(waveform)])\n",
    "\n",
    "# Plot log-mel spectrogram\n",
    "plt.subplot(3, 1, 2)\n",
    "plt.pcolormesh(spectrogram.T, shading='auto')\n",
    "\n",
    "# Plot and label the model output scores for the top-scoring classes\n",
    "mean_scores = np.mean(scores, axis=0)\n",
    "top_N = 10\n",
    "top_class_indices = np.argsort(mean_scores)[::-1][:top_N]\n",
    "\n",
    "plt.subplot(3, 1, 3)\n",
    "plt.imshow(scores[:, top_class_indices].T, aspect='auto', interpolation='nearest', cmap='gray_r')\n",
    "\n",
    "# Compensate for patch_window_seconds (0.96s) context window to align with spectrogram\n",
    "patch_padding = (patch_window_seconds / 2) / patch_hop_seconds\n",
    "plt.xlim([-patch_padding, scores.shape[0] + patch_padding])\n",
    "\n",
    "# Label top_N classes\n",
    "yticks = range(0, top_N, 1)\n",
    "plt.yticks(yticks, [class_names[top_class_indices[x]] for x in yticks])\n",
    "_ = plt.ylim(-0.5 + np.array([top_N, 0]))"
   ]
  }
 ],
 "metadata": {
  "kernelspec": {
   "display_name": "Python 3",
   "language": "python",
   "name": "python3"
  },
  "language_info": {
   "codemirror_mode": {
    "name": "ipython",
    "version": 3
   },
   "file_extension": ".py",
   "mimetype": "text/x-python",
   "name": "python",
   "nbconvert_exporter": "python",
   "pygments_lexer": "ipython3",
   "version": "3.11.6"
  },
  "orig_nbformat": 4
 },
 "nbformat": 4,
 "nbformat_minor": 2
}
